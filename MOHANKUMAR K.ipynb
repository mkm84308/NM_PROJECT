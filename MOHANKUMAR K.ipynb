{
  "nbformat": 4,
  "nbformat_minor": 0,
  "metadata": {
    "colab": {
      "provenance": []
    },
    "kernelspec": {
      "name": "python3",
      "display_name": "Python 3"
    },
    "language_info": {
      "name": "python"
    }
  },
  "cells": [
    {
      "cell_type": "code",
      "execution_count": 1,
      "metadata": {
        "colab": {
          "base_uri": "https://localhost:8080/"
        },
        "id": "gXmlJkzSg_zd",
        "outputId": "72bf9754-6f8e-4563-8f9f-0ee35dbdd8a0"
      },
      "outputs": [
        {
          "output_type": "stream",
          "name": "stdout",
          "text": [
            "Requirement already satisfied: pandas in /usr/local/lib/python3.11/dist-packages (2.2.2)\n",
            "Requirement already satisfied: scikit-learn in /usr/local/lib/python3.11/dist-packages (1.6.1)\n",
            "Requirement already satisfied: numpy>=1.23.2 in /usr/local/lib/python3.11/dist-packages (from pandas) (2.0.2)\n",
            "Requirement already satisfied: python-dateutil>=2.8.2 in /usr/local/lib/python3.11/dist-packages (from pandas) (2.9.0.post0)\n",
            "Requirement already satisfied: pytz>=2020.1 in /usr/local/lib/python3.11/dist-packages (from pandas) (2025.2)\n",
            "Requirement already satisfied: tzdata>=2022.7 in /usr/local/lib/python3.11/dist-packages (from pandas) (2025.2)\n",
            "Requirement already satisfied: scipy>=1.6.0 in /usr/local/lib/python3.11/dist-packages (from scikit-learn) (1.15.3)\n",
            "Requirement already satisfied: joblib>=1.2.0 in /usr/local/lib/python3.11/dist-packages (from scikit-learn) (1.5.0)\n",
            "Requirement already satisfied: threadpoolctl>=3.1.0 in /usr/local/lib/python3.11/dist-packages (from scikit-learn) (3.6.0)\n",
            "Requirement already satisfied: six>=1.5 in /usr/local/lib/python3.11/dist-packages (from python-dateutil>=2.8.2->pandas) (1.17.0)\n"
          ]
        }
      ],
      "source": [
        "!pip install pandas scikit-learn\n"
      ]
    },
    {
      "cell_type": "code",
      "source": [
        "import pandas as pd\n",
        "from sklearn.feature_extraction.text import TfidfVectorizer\n",
        "from sklearn.metrics.pairwise import cosine_similarity\n"
      ],
      "metadata": {
        "id": "Hb4ReQawhtLE"
      },
      "execution_count": 2,
      "outputs": []
    },
    {
      "cell_type": "code",
      "source": [
        "!pip install pandas\n",
        "\n",
        "import pandas as pd\n",
        "\n",
        "# Load the dataset\n",
        "url = 'https://datasets.imdbws.com/title.basics.tsv.gz'\n",
        "movies = pd.read_csv(url, sep='\\t', compression='gzip')\n",
        "\n",
        "# Inspect the first few rows\n",
        "print(movies.head())\n",
        "\n"
      ],
      "metadata": {
        "colab": {
          "base_uri": "https://localhost:8080/"
        },
        "id": "CYWw80gfhzHC",
        "outputId": "6dae94b2-a9e5-47f6-ea22-f423740bed56"
      },
      "execution_count": 6,
      "outputs": [
        {
          "output_type": "stream",
          "name": "stdout",
          "text": [
            "Requirement already satisfied: pandas in /usr/local/lib/python3.11/dist-packages (2.2.2)\n",
            "Requirement already satisfied: numpy>=1.23.2 in /usr/local/lib/python3.11/dist-packages (from pandas) (2.0.2)\n",
            "Requirement already satisfied: python-dateutil>=2.8.2 in /usr/local/lib/python3.11/dist-packages (from pandas) (2.9.0.post0)\n",
            "Requirement already satisfied: pytz>=2020.1 in /usr/local/lib/python3.11/dist-packages (from pandas) (2025.2)\n",
            "Requirement already satisfied: tzdata>=2022.7 in /usr/local/lib/python3.11/dist-packages (from pandas) (2025.2)\n",
            "Requirement already satisfied: six>=1.5 in /usr/local/lib/python3.11/dist-packages (from python-dateutil>=2.8.2->pandas) (1.17.0)\n"
          ]
        },
        {
          "output_type": "stream",
          "name": "stderr",
          "text": [
            "<ipython-input-6-5c54ac06212d>:7: DtypeWarning: Columns (4) have mixed types. Specify dtype option on import or set low_memory=False.\n",
            "  movies = pd.read_csv(url, sep='\\t', compression='gzip')\n"
          ]
        },
        {
          "output_type": "stream",
          "name": "stdout",
          "text": [
            "      tconst titleType            primaryTitle           originalTitle  \\\n",
            "0  tt0000001     short              Carmencita              Carmencita   \n",
            "1  tt0000002     short  Le clown et ses chiens  Le clown et ses chiens   \n",
            "2  tt0000003     short            Poor Pierrot          Pauvre Pierrot   \n",
            "3  tt0000004     short             Un bon bock             Un bon bock   \n",
            "4  tt0000005     short        Blacksmith Scene        Blacksmith Scene   \n",
            "\n",
            "  isAdult startYear endYear runtimeMinutes                    genres  \n",
            "0       0      1894      \\N              1         Documentary,Short  \n",
            "1       0      1892      \\N              5           Animation,Short  \n",
            "2       0      1892      \\N              5  Animation,Comedy,Romance  \n",
            "3       0      1892      \\N             12           Animation,Short  \n",
            "4       0      1893      \\N              1                     Short  \n"
          ]
        }
      ]
    },
    {
      "cell_type": "code",
      "source": [
        "import pandas as pd\n",
        "\n",
        "# Load the dataset\n",
        "url = 'https://datasets.imdbws.com/title.basics.tsv.gz'\n",
        "movies = pd.read_csv(url, sep='\\t', compression='gzip', low_memory=False)\n",
        "\n",
        "# Inspect the first few rows\n",
        "print(movies.head())\n",
        "\n",
        "# Combine features into a single string\n",
        "movies['combined_features'] = movies.apply(lambda row: ' '.join(map(str, [row['genres'], row['primaryTitle']])), axis=1)\n",
        "\n",
        "# Inspect the combined features\n",
        "print(movies['combined_features'].head())"
      ],
      "metadata": {
        "colab": {
          "base_uri": "https://localhost:8080/"
        },
        "id": "Z6ub5cYSjBjl",
        "outputId": "307d9140-436e-4adb-c306-a023dda842ad"
      },
      "execution_count": 9,
      "outputs": [
        {
          "output_type": "stream",
          "name": "stdout",
          "text": [
            "      tconst titleType            primaryTitle           originalTitle  \\\n",
            "0  tt0000001     short              Carmencita              Carmencita   \n",
            "1  tt0000002     short  Le clown et ses chiens  Le clown et ses chiens   \n",
            "2  tt0000003     short            Poor Pierrot          Pauvre Pierrot   \n",
            "3  tt0000004     short             Un bon bock             Un bon bock   \n",
            "4  tt0000005     short        Blacksmith Scene        Blacksmith Scene   \n",
            "\n",
            "  isAdult startYear endYear runtimeMinutes                    genres  \n",
            "0       0      1894      \\N              1         Documentary,Short  \n",
            "1       0      1892      \\N              5           Animation,Short  \n",
            "2       0      1892      \\N              5  Animation,Comedy,Romance  \n",
            "3       0      1892      \\N             12           Animation,Short  \n",
            "4       0      1893      \\N              1                     Short  \n",
            "0              Documentary,Short Carmencita\n",
            "1    Animation,Short Le clown et ses chiens\n",
            "2     Animation,Comedy,Romance Poor Pierrot\n",
            "3               Animation,Short Un bon bock\n",
            "4                    Short Blacksmith Scene\n",
            "Name: combined_features, dtype: object\n"
          ]
        }
      ]
    },
    {
      "cell_type": "code",
      "source": [
        "# Assuming you have a DataFrame with a column 'combined_features'\n",
        "# Let's create a sample DataFrame\n",
        "data = {\n",
        "    'combined_features': ['feature1 feature2', 'feature2 feature3', 'feature1 feature3']\n",
        "}\n",
        "df = pd.DataFrame(data)\n",
        "\n",
        "# Create a TF-IDF vectorizer\n",
        "vectorizer = TfidfVectorizer()\n",
        "\n",
        "# Fit the vectorizer to the data and transform it into a matrix\n",
        "tfidf_matrix = vectorizer.fit_transform(df['combined_features'])\n",
        "\n",
        "# Compute cosine similarity matrix\n",
        "cosine_sim = cosine_similarity(tfidf_matrix, tfidf_matrix)\n",
        "\n",
        "print(cosine_sim)\n",
        "\n"
      ],
      "metadata": {
        "colab": {
          "base_uri": "https://localhost:8080/"
        },
        "id": "hMD2Lkhbk9rC",
        "outputId": "6ddecada-c4a7-49a1-ceab-449ec36ad1e6"
      },
      "execution_count": 13,
      "outputs": [
        {
          "output_type": "stream",
          "name": "stdout",
          "text": [
            "[[1.  0.5 0.5]\n",
            " [0.5 1.  0.5]\n",
            " [0.5 0.5 1. ]]\n"
          ]
        }
      ]
    },
    {
      "cell_type": "code",
      "source": [
        "def get_recommendations(title, cosine_sim=cosine_sim):\n",
        "    # Get index of the movie that matches the title\n",
        "    idx = movies.index[movies['title'] == title].tolist()[0]\n",
        "\n",
        "    # Get pairwise similarity scores of all movies with that movie\n",
        "    sim_scores = list(enumerate(cosine_sim[idx]))\n",
        "\n",
        "    # Sort the movies based on similarity scores\n",
        "    sim_scores = sorted(sim_scores, key=lambda x: x[1], reverse=True)\n",
        "\n",
        "    # Get the scores of the 10 most similar movies\n",
        "    sim_scores = sim_scores[1:11]\n",
        "\n",
        "    # Get movie indices\n",
        "    movie_indices = [i[0] for i in sim_scores]\n",
        "\n",
        "    # Return the top 10 most similar movies\n",
        "    return movies['title'].iloc[movie_indices]\n"
      ],
      "metadata": {
        "id": "LWGBhel7lNZq"
      },
      "execution_count": 15,
      "outputs": []
    },
    {
      "cell_type": "code",
      "source": [
        "# Assuming you have a DataFrame with movie data\n",
        "# Let's create a sample DataFrame\n",
        "data = {\n",
        "    'title': ['The Dark Knight', 'The Avengers', 'The Dark Knight Rises', 'Batman Begins', 'Iron Man'],\n",
        "    'genres': ['Action Crime Thriller', 'Action Sci-Fi', 'Action Thriller', 'Action Thriller', 'Action Sci-Fi']\n",
        "}\n",
        "df = pd.DataFrame(data)\n",
        "\n",
        "# Combine features into a single string\n",
        "df['combined_features'] = df['title'] + ' ' + df['genres']\n",
        "\n",
        "# Create a TF-IDF vectorizer\n",
        "vectorizer = TfidfVectorizer()\n",
        "\n",
        "# Fit the vectorizer to the data and transform it into a matrix\n",
        "tfidf_matrix = vectorizer.fit_transform(df['combined_features'])\n",
        "\n",
        "# Compute cosine similarity matrix\n",
        "cosine_sim = cosine_similarity(tfidf_matrix, tfidf_matrix)\n",
        "\n",
        "# Create a function to get recommendations\n",
        "def get_recommendations(title):\n",
        "    idx = df[df['title'] == title].index[0]\n",
        "    sim_scores = list(enumerate(cosine_sim[idx]))\n",
        "    sim_scores = sorted(sim_scores, key=lambda x: x[1], reverse=True)\n",
        "    sim_scores = sim_scores[1:6]  # Get top 5 recommendations\n",
        "    movie_indices = [i[0] for i in sim_scores]\n",
        "    return df['title'].iloc[movie_indices]\n",
        "\n",
        "print(get_recommendations('The Dark Knight'))\n"
      ],
      "metadata": {
        "colab": {
          "base_uri": "https://localhost:8080/"
        },
        "id": "06qJzYbXlSNK",
        "outputId": "ae4d0d82-5290-4e29-8773-d83dadcc0114"
      },
      "execution_count": 17,
      "outputs": [
        {
          "output_type": "stream",
          "name": "stdout",
          "text": [
            "2    The Dark Knight Rises\n",
            "3            Batman Begins\n",
            "1             The Avengers\n",
            "4                 Iron Man\n",
            "Name: title, dtype: object\n"
          ]
        }
      ]
    },
    {
      "cell_type": "code",
      "source": [
        "import networkx as nx\n",
        "import matplotlib.pyplot as plt\n",
        "import pandas as pd\n",
        "\n",
        "# Create a sample DataFrame with movie data\n",
        "data = {\n",
        "    'Movie': ['The Dark Knight', 'The Avengers', 'The Dark Knight Rises', 'Batman Begins', 'Iron Man'],\n",
        "    'Genre': ['Action', 'Action', 'Action', 'Action', 'Action'],\n",
        "    'Rating': [9.0, 8.5, 8.8, 8.2, 8.0]\n",
        "}\n",
        "df = pd.DataFrame(data)\n",
        "\n",
        "# Create a graph\n",
        "G = nx.Graph()\n",
        "\n",
        "# Add nodes for movies\n",
        "G.add_nodes_from(df['Movie'])\n",
        "\n",
        "# Add edges between movies with similar genres\n",
        "for i in range(len(df)):\n",
        "    for j in range(i+1, len(df)):\n",
        "        if df.iloc[i]['Genre'] == df.iloc[j]['Genre']:\n",
        "            G.add_edge(df.iloc[i]['Movie'], df.iloc[j]['Movie'])\n",
        "\n",
        "# Draw the graph\n",
        "pos = nx.spring_layout(G)\n",
        "nx.draw_networkx(G, pos, with_labels=True, node_color='lightblue', edge_color='gray')\n",
        "plt.show()\n",
        "\n",
        "# Define a function to get recommendations\n",
        "def get_recommendations(movie):\n",
        "    neighbors = list(G.neighbors(movie))\n",
        "    return neighbors\n",
        "\n",
        "# Get recommendations for a movie\n",
        "print(get_recommendations('The Dark Knight'))"
      ],
      "metadata": {
        "colab": {
          "base_uri": "https://localhost:8080/",
          "height": 425
        },
        "id": "fmPHGirylthS",
        "outputId": "835dfa63-9e69-4c36-dd89-40838dc790ee"
      },
      "execution_count": 19,
      "outputs": [
        {
          "output_type": "display_data",
          "data": {
            "text/plain": [
              "<Figure size 640x480 with 1 Axes>"
            ],
            "image/png": "[encoded data removed]"
          },
          "metadata": {}
        },
        {
          "output_type": "stream",
          "name": "stdout",
          "text": [
            "['The Avengers', 'The Dark Knight Rises', 'Batman Begins', 'Iron Man']\n"
          ]
        }
      ]
    }
  ]
}